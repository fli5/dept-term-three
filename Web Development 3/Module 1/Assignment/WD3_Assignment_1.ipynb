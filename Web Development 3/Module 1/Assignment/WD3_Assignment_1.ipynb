{
 "cells": [
  {
   "cell_type": "markdown",
   "id": "09458fd2",
   "metadata": {},
   "source": [
    "# Frist Program in Python\n",
    "## 1. Write your first Program Print  \"Hello World !\"\n",
    "## 2. Print the version of Python.  (Note: you can use google!) "
   ]
  },
  {
   "cell_type": "code",
   "id": "6569d7c7",
   "metadata": {
    "ExecuteTime": {
     "end_time": "2025-09-05T14:12:59.433768Z",
     "start_time": "2025-09-05T14:12:59.424656Z"
    }
   },
   "source": "print(\"Hello World\")",
   "outputs": [
    {
     "name": "stdout",
     "output_type": "stream",
     "text": [
      "Hello World\n"
     ]
    }
   ],
   "execution_count": 1
  },
  {
   "cell_type": "code",
   "id": "93a3a103",
   "metadata": {
    "ExecuteTime": {
     "end_time": "2025-09-05T14:19:17.034263Z",
     "start_time": "2025-09-05T14:19:17.028959Z"
    }
   },
   "source": [
    "import sys\n",
    "print(sys.version)"
   ],
   "outputs": [
    {
     "name": "stdout",
     "output_type": "stream",
     "text": [
      "3.12.3 (v3.12.3:f6650f9ad7, Apr  9 2024, 08:18:48) [Clang 13.0.0 (clang-1300.0.29.30)]\n"
     ]
    }
   ],
   "execution_count": 6
  },
  {
   "cell_type": "markdown",
   "id": "7bb23398",
   "metadata": {},
   "source": [
    "# Datatypes in Python\n",
    "## 3.Find the datatype of the following values: (Note: use \"type\" built-in function)\n",
    "### 11,    22.23,     \"Hello World\", True"
   ]
  },
  {
   "cell_type": "code",
   "id": "0145f9cb",
   "metadata": {
    "ExecuteTime": {
     "end_time": "2025-09-05T14:19:51.006433Z",
     "start_time": "2025-09-05T14:19:51.001603Z"
    }
   },
   "source": "print(type(11))",
   "outputs": [
    {
     "name": "stdout",
     "output_type": "stream",
     "text": [
      "<class 'int'>\n"
     ]
    }
   ],
   "execution_count": 7
  },
  {
   "cell_type": "code",
   "id": "c70ac188",
   "metadata": {
    "ExecuteTime": {
     "end_time": "2025-09-05T14:23:55.604561Z",
     "start_time": "2025-09-05T14:23:55.599910Z"
    }
   },
   "source": "print(type(22.23))",
   "outputs": [
    {
     "name": "stdout",
     "output_type": "stream",
     "text": [
      "<class 'float'>\n"
     ]
    }
   ],
   "execution_count": 8
  },
  {
   "cell_type": "code",
   "execution_count": null,
   "id": "a6c49e25",
   "metadata": {},
   "outputs": [],
   "source": "print(type(\"Hello World\"))"
  },
  {
   "cell_type": "code",
   "id": "013d1734",
   "metadata": {
    "ExecuteTime": {
     "end_time": "2025-09-05T14:24:16.730493Z",
     "start_time": "2025-09-05T14:24:16.725957Z"
    }
   },
   "source": "print(type(True))",
   "outputs": [
    {
     "name": "stdout",
     "output_type": "stream",
     "text": [
      "<class 'bool'>\n"
     ]
    }
   ],
   "execution_count": 9
  },
  {
   "cell_type": "markdown",
   "id": "6ff4838a",
   "metadata": {},
   "source": [
    "# Typecast in Python\n",
    "## 4. typecast the above data i.e. 'integer' into 'float' and 'float' into 'int', \n",
    "## 5. typecast 'boolean' \"true, false\" into 'int' and 'float' \n",
    "## 6. typecast 0 1 into boolean and see the results"
   ]
  },
  {
   "cell_type": "code",
   "id": "311a28bf",
   "metadata": {
    "ExecuteTime": {
     "end_time": "2025-09-05T14:38:45.292859Z",
     "start_time": "2025-09-05T14:38:45.284453Z"
    }
   },
   "source": [
    "print('integer to float:',11, 'to', float(11))\n",
    "print('float to integer:',22.23, 'to',int(22.23))"
   ],
   "outputs": [
    {
     "name": "stdout",
     "output_type": "stream",
     "text": [
      "integer to float: 11 to 11.0\n",
      "float to integer: 22.23 to 22\n"
     ]
    }
   ],
   "execution_count": 25
  },
  {
   "cell_type": "code",
   "id": "60ad89a3",
   "metadata": {
    "ExecuteTime": {
     "end_time": "2025-09-05T14:39:25.245356Z",
     "start_time": "2025-09-05T14:39:25.240712Z"
    }
   },
   "source": [
    "print('boolean to int:', True, 'to',int(True))\n",
    "print('boolean to int:', False, 'to',float(False))\n",
    "print('boolean to float:', True, 'to',float(True))"
   ],
   "outputs": [
    {
     "name": "stdout",
     "output_type": "stream",
     "text": [
      "boolean to int: True to 1\n",
      "boolean to int: False to 0.0\n",
      "boolean to float: True to 1.0\n"
     ]
    }
   ],
   "execution_count": 26
  },
  {
   "cell_type": "code",
   "id": "c6cb0e74",
   "metadata": {
    "ExecuteTime": {
     "end_time": "2025-09-05T14:40:06.561425Z",
     "start_time": "2025-09-05T14:40:06.556224Z"
    }
   },
   "source": [
    "print('0 to boolean:',0, 'to', bool(0))\n",
    "print('1 to boolean:', 1, 'to', bool(1))"
   ],
   "outputs": [
    {
     "name": "stdout",
     "output_type": "stream",
     "text": [
      "0 to boolean: 0 to False\n",
      "1 to boolean: 1 to True\n"
     ]
    }
   ],
   "execution_count": 27
  },
  {
   "cell_type": "markdown",
   "id": "42219bca",
   "metadata": {},
   "source": [
    "# Variables and Expressions (all mathematical operations can be used)\n",
    "## 7. Declare 2 integer variables and divide them. \n",
    "### Output should be displayed as an integer. (Note: do NOT use typecast)"
   ]
  },
  {
   "cell_type": "code",
   "id": "e47cc5cc",
   "metadata": {
    "ExecuteTime": {
     "end_time": "2025-09-05T15:01:42.401651Z",
     "start_time": "2025-09-05T15:01:42.396302Z"
    }
   },
   "source": [
    "dividend_operand=15\n",
    "divisor_operand=4\n",
    "divided_result=dividend_operand // divisor_operand\n",
    "print(divided_result)"
   ],
   "outputs": [
    {
     "name": "stdout",
     "output_type": "stream",
     "text": [
      "3\n"
     ]
    }
   ],
   "execution_count": 1
  },
  {
   "cell_type": "markdown",
   "id": "d5d2cd59",
   "metadata": {},
   "source": [
    "## 8. Find out the System Setting about float type. (information about float)"
   ]
  },
  {
   "cell_type": "code",
   "id": "09aedb86",
   "metadata": {
    "ExecuteTime": {
     "end_time": "2025-09-05T15:04:59.106436Z",
     "start_time": "2025-09-05T15:04:59.100914Z"
    }
   },
   "source": [
    "import sys\n",
    "print(sys.float_info)"
   ],
   "outputs": [
    {
     "name": "stdout",
     "output_type": "stream",
     "text": [
      "sys.float_info(max=1.7976931348623157e+308, max_exp=1024, max_10_exp=308, min=2.2250738585072014e-308, min_exp=-1021, min_10_exp=-307, dig=15, mant_dig=53, epsilon=2.220446049250313e-16, radix=2, rounds=1)\n"
     ]
    }
   ],
   "execution_count": 6
  },
  {
   "cell_type": "markdown",
   "id": "d50757fb",
   "metadata": {},
   "source": [
    "# Strings\n",
    "## 9. Print the length of the string below.\n",
    "## 10. Print the first 'word' in the string using negative indexing. (Print RRC)\n",
    "## 11. \"Slice\" the string and display \"Polytech\".\n",
    "## 12. Use the concept of \"Stride\" and display \"Polytech\" backwards. (Print \"hcetyloP\")\n",
    "## 13. Change the string into uppercase.\n",
    "## 14. Replace \"Polytech\" with \"Polytechnic\". (Note: use replace function)"
   ]
  },
  {
   "cell_type": "code",
   "id": "4daac2e1",
   "metadata": {
    "ExecuteTime": {
     "end_time": "2025-09-05T15:28:20.965252Z",
     "start_time": "2025-09-05T15:28:20.957493Z"
    }
   },
   "source": [
    "school = 'RRC Polytech'\n",
    "print('Print the length of the string below:')\n",
    "print(len(school))\n",
    "print('-'*80)\n",
    "print('Print the first \\'word\\' in the string using negative indexing. (Print RRC):')\n",
    "print(school[:-9])\n",
    "print('-'*80)\n",
    "print('\"Slice\" the string and display \"Polytech\":')\n",
    "print(school[4:])\n",
    "print('-'*80)\n",
    "print('Use the concept of \"Stride\" and display \"Polytech\" backwards. (Print \"hcetyloP\"):')\n",
    "print(school[4::][::-1])\n",
    "print('-'*80)\n",
    "print('Change the string into uppercase:')\n",
    "print(school.upper())\n",
    "print('-'*80)\n",
    "print('Replace \"Polytech\" with \"Polytechnic\". (Note: use replace function):')\n",
    "print(school.replace('Polytech', 'Polytechnic'))\n",
    "print('-'*80)"
   ],
   "outputs": [
    {
     "name": "stdout",
     "output_type": "stream",
     "text": [
      "Print the length of the string below:\n",
      "12\n",
      "--------------------------------------------------------------------------------\n",
      "Print the first 'word' in the string using negative indexing. (Print RRC):\n",
      "RRC\n",
      "--------------------------------------------------------------------------------\n",
      "\"Slice\" the string and display \"Polytech\":\n",
      "Polytech\n",
      "--------------------------------------------------------------------------------\n",
      "Use the concept of \"Stride\" and display \"Polytech\" backwards. (Print \"hcetyloP\"):\n",
      "hcetyloP\n",
      "--------------------------------------------------------------------------------\n",
      "Change the string into uppercase:\n",
      "RRC POLYTECH\n",
      "--------------------------------------------------------------------------------\n",
      "Replace \"Polytech\" with \"Polytechnic\". (Note: use replace function):\n",
      "RRC Polytechnic\n",
      "--------------------------------------------------------------------------------\n"
     ]
    }
   ],
   "execution_count": 28
  },
  {
   "cell_type": "markdown",
   "id": "6a54ae23",
   "metadata": {},
   "source": [
    "# RegEx in python (google how to import RegEx in python)\n",
    "## 15. Define the search \"pattern\" to search RRC in the above string(school) and display \"Match Found\" or \"Match Not Found\" accordingly using an if else statement.\n"
   ]
  },
  {
   "cell_type": "code",
   "id": "f88df01c",
   "metadata": {
    "ExecuteTime": {
     "end_time": "2025-09-05T15:31:32.417030Z",
     "start_time": "2025-09-05T15:31:32.410624Z"
    }
   },
   "source": [
    "# import statement will go here\n",
    "import re\n",
    "# Defining the pattern to search for\n",
    "pattern = r\"RRC\"\n",
    "\n",
    "# Use the search() function to seach for the pattern in the string\n",
    "result = re.search(pattern, school)\n",
    "\n",
    "# Check if a match is found and print accordingly.\n",
    "if result:\n",
    "    print('Match Found')\n",
    "else:\n",
    "    print('Match Not Found')"
   ],
   "outputs": [
    {
     "name": "stdout",
     "output_type": "stream",
     "text": [
      "Match Not Found\n"
     ]
    }
   ],
   "execution_count": 30
  },
  {
   "cell_type": "markdown",
   "id": "d57512f4",
   "metadata": {},
   "source": [
    "# For Loop\n",
    "## 16. Use loops to print out the elements in the list:"
   ]
  },
  {
   "cell_type": "code",
   "id": "8ec177cc",
   "metadata": {
    "ExecuteTime": {
     "end_time": "2025-09-05T15:33:40.293515Z",
     "start_time": "2025-09-05T15:33:40.286283Z"
    }
   },
   "source": [
    "colours = [\"red\",\"green\",\"blue\"]\n",
    "\n",
    "for colour in colours:\n",
    "    print(colour)"
   ],
   "outputs": [
    {
     "name": "stdout",
     "output_type": "stream",
     "text": [
      "red\n",
      "green\n",
      "blue\n"
     ]
    }
   ],
   "execution_count": 31
  },
  {
   "cell_type": "markdown",
   "id": "30865427",
   "metadata": {},
   "source": [
    "# While Loop\n",
    "## 17. Write a while loop to display the values of the Rating stored in the list PlayListRatings. If the score is less than 6, exit the loop.\n",
    "### PlayListRatings = [10, 9.5, 10, 8, 7.5, 5, 10, 10]"
   ]
  },
  {
   "cell_type": "code",
   "id": "60f0ef2e",
   "metadata": {
    "ExecuteTime": {
     "end_time": "2025-09-05T15:41:34.054311Z",
     "start_time": "2025-09-05T15:41:34.045986Z"
    }
   },
   "source": [
    "PlayListRatings = [10, 9.5, 10, 8, 7.5, 5, 10, 10]\n",
    "i = 0\n",
    "rating = PlayListRatings[0]\n",
    "while i<len(PlayListRatings):\n",
    "    rating = PlayListRatings[i]\n",
    "    if rating<6:\n",
    "        break\n",
    "    print(rating)\n",
    "    i += 1"
   ],
   "outputs": [
    {
     "name": "stdout",
     "output_type": "stream",
     "text": [
      "10\n",
      "9.5\n",
      "10\n",
      "8\n",
      "7.5\n"
     ]
    }
   ],
   "execution_count": 39
  },
  {
   "cell_type": "markdown",
   "id": "dc3cae39",
   "metadata": {},
   "source": [
    "# Functions\n",
    "## 18. Write a function that calculates and returns the square of a parameter. Below is the example of how to declare a function\n",
    "### def function_name(parameter_name):"
   ]
  },
  {
   "cell_type": "code",
   "id": "8882f858",
   "metadata": {
    "ExecuteTime": {
     "end_time": "2025-09-05T15:46:35.826251Z",
     "start_time": "2025-09-05T15:46:35.820481Z"
    }
   },
   "source": [
    "def calculate_square(number):\n",
    "    return number ** 2\n",
    "\n",
    "print(calculate_square(10.1))"
   ],
   "outputs": [
    {
     "name": "stdout",
     "output_type": "stream",
     "text": [
      "102.00999999999999\n"
     ]
    }
   ],
   "execution_count": 44
  },
  {
   "cell_type": "markdown",
   "id": "7b263cd0",
   "metadata": {},
   "source": [
    "# Bonus\n",
    "## 19. Demonstrate something cool you learned to do with Python while completing this worksheet, and write about why you thought it was cool in a comment."
   ]
  },
  {
   "metadata": {},
   "cell_type": "code",
   "outputs": [],
   "execution_count": null,
   "source": "",
   "id": "75471436"
  },
  {
   "metadata": {},
   "cell_type": "markdown",
   "source": [
    "# Task 2. Write a Python program that achieves the following (you can use Jupyter Notebook, or just create a regular .py file):\n",
    "- Takes an integer input from the user.\n",
    "    - If the input is not an integer, print an error message and re-prompt.\n",
    "    - If the integer is less than 1 or larger than 20, print an error message and re-prompt.\n",
    "- Creates and prints an asterisk tree the size of the integer provided.\n",
    "    - Example of an asterisk tree with an input of 5: asterisk tree\n",
    "    - Formatting is important! The tree should look like the example.\n",
    "- Remember to add frequent documentation!"
   ],
   "id": "2e84313c866869bf"
  },
  {
   "metadata": {
    "ExecuteTime": {
     "end_time": "2025-09-05T17:47:31.267139Z",
     "start_time": "2025-09-05T17:47:27.008481Z"
    }
   },
   "cell_type": "code",
   "source": [
    "#!/usr/bin/env python\n",
    "# -*- coding: utf-8 -*-\n",
    "\n",
    "#  ---------------------------------------------------------------------\n",
    "#  Copyright (c) 2025. Felix Li. All rights reserved\n",
    "#  Unauthorized copying, modification, or distribution of this file, via any\n",
    "#  medium, is strictly prohibited without prior written permission from Felix Li.\n",
    "#  For licensing inquiries, please contact: fli5@academic.rrc.ca\n",
    "#  ---------------------------------------------------------------------\n",
    "\n",
    "# ---------------------------------------------------------------------\n",
    "# Program: Full Stack Web Development\n",
    "# Name: Feng Li\n",
    "# Course: WEBD-3010 (273793) Web Development 3\n",
    "# Created: 2025-09-05\n",
    "# ---------------------------------------------------------------------\n",
    "\n",
    "def input_tree_size(min_size: int = 1, max_size: int = 20) -> int:\n",
    "    \"\"\"\n",
    "    Read a tree size from the user input\n",
    "    :param min_size: Minimum tree size\n",
    "    :param max_size: Maximum tree size\n",
    "    :return: A tree size\n",
    "    \"\"\"\n",
    "\n",
    "    #Format the string using the f-string function\n",
    "    prompt_message = f'Enter an integer between {min_size} and {max_size}: '\n",
    "    while True:\n",
    "        try:\n",
    "            input_size = int(input(prompt_message))\n",
    "\n",
    "            #Check if the user input is valid\n",
    "            if min_size <= input_size <= max_size:\n",
    "                return input_size\n",
    "            else:\n",
    "                print(f\"Error: Integer must be between {min_size} and {max_size}. Please try again.\")\n",
    "        except ValueError:\n",
    "            print(\"Error: Input is not an integer. Please try again.\")\n",
    "\n",
    "\n",
    "tree_size = input_tree_size()\n",
    "print(f\"\\nAsterisk Tree of size {tree_size}\")\n",
    "for i in range(1, tree_size + 1):\n",
    "    # Use str.center() to simplify spacing\n",
    "    tree_stars = '*' * (2 * i - 1)\n",
    "\n",
    "    # Return a centered string of length width.\n",
    "    print(tree_stars.center(2 * tree_size - 1))\n"
   ],
   "id": "aea072e0b4d370e3",
   "outputs": [
    {
     "name": "stdout",
     "output_type": "stream",
     "text": [
      "\n",
      "Asterisk Tree of size 20\n",
      "                   *                   \n",
      "                  ***                  \n",
      "                 *****                 \n",
      "                *******                \n",
      "               *********               \n",
      "              ***********              \n",
      "             *************             \n",
      "            ***************            \n",
      "           *****************           \n",
      "          *******************          \n",
      "         *********************         \n",
      "        ***********************        \n",
      "       *************************       \n",
      "      ***************************      \n",
      "     *****************************     \n",
      "    *******************************    \n",
      "   *********************************   \n",
      "  ***********************************  \n",
      " ************************************* \n",
      "***************************************\n"
     ]
    }
   ],
   "execution_count": 2
  }
 ],
 "metadata": {
  "kernelspec": {
   "display_name": "Python 3 (ipykernel)",
   "language": "python",
   "name": "python3"
  },
  "language_info": {
   "codemirror_mode": {
    "name": "ipython",
    "version": 3
   },
   "file_extension": ".py",
   "mimetype": "text/x-python",
   "name": "python",
   "nbconvert_exporter": "python",
   "pygments_lexer": "ipython3",
   "version": "3.11.3"
  }
 },
 "nbformat": 4,
 "nbformat_minor": 5
}
