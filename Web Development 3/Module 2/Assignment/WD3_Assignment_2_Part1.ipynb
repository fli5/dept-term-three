{
 "cells": [
  {
   "cell_type": "markdown",
   "id": "0db6cd1b",
   "metadata": {},
   "source": [
    "# Python and PANDAS\n",
    "\n",
    "## Requires Winnipeg weather dataset (winnipeg.csv attached to this worksheet)\n",
    "#### can login sign up and get weather data from https://www.visualcrossing.com/ for learning purposes or use the given dataset\n",
    "\n",
    "### REMEMBER TO REPLACE THE FILE PATH!"
   ]
  },
  {
   "cell_type": "code",
   "id": "2db6c6e6",
   "metadata": {
    "ExecuteTime": {
     "end_time": "2025-10-08T19:30:48.462891Z",
     "start_time": "2025-10-08T19:30:47.535908Z"
    }
   },
   "source": [
    "import pandas as pd"
   ],
   "outputs": [],
   "execution_count": 2
  },
  {
   "cell_type": "code",
   "id": "3362fec6",
   "metadata": {
    "ExecuteTime": {
     "end_time": "2025-10-08T19:31:05.860530Z",
     "start_time": "2025-10-08T19:31:05.831129Z"
    }
   },
   "source": "data = pd.read_csv(r\"winnipeg.csv\")",
   "outputs": [],
   "execution_count": 5
  },
  {
   "cell_type": "code",
   "id": "6de69a66",
   "metadata": {
    "ExecuteTime": {
     "end_time": "2025-10-08T19:31:07.442317Z",
     "start_time": "2025-10-08T19:31:07.388208Z"
    }
   },
   "source": [
    "data"
   ],
   "outputs": [
    {
     "data": {
      "text/plain": [
       "        name    datetime  tempmax  tempmin  temp  feelslikemax  feelslikemin  \\\n",
       "0   winnipeg  2023-12-21      1.1     -3.0  -0.4          -2.5          -6.9   \n",
       "1   winnipeg  2023-12-22     -2.3     -5.3  -3.8          -4.7          -9.0   \n",
       "2   winnipeg  2023-12-23      0.8     -3.4  -1.6          -4.3          -9.0   \n",
       "3   winnipeg  2023-12-24     -1.7     -7.0  -3.1          -6.9         -13.6   \n",
       "4   winnipeg  2023-12-25     -4.0     -9.6  -7.3          -9.6         -15.4   \n",
       "5   winnipeg  2023-12-26     -3.6     -9.1  -6.9          -8.5         -14.9   \n",
       "6   winnipeg  2023-12-27     -2.8     -8.1  -5.8          -7.6         -13.5   \n",
       "7   winnipeg  2023-12-28     -3.0     -6.7  -5.3          -8.3         -12.8   \n",
       "8   winnipeg  2023-12-29     -5.8    -14.4 -10.9         -11.4         -21.6   \n",
       "9   winnipeg  2023-12-30    -10.0    -15.3 -13.6         -17.1         -22.8   \n",
       "10  winnipeg  2023-12-31     -8.6    -14.5 -12.0         -14.4         -21.4   \n",
       "11  winnipeg  2024-01-01    -10.9    -14.2 -12.6         -17.8         -21.4   \n",
       "12  winnipeg  2024-01-02    -13.2    -17.0 -14.8         -22.0         -27.5   \n",
       "13  winnipeg  2024-01-03    -16.3    -18.9 -17.6         -23.8         -27.6   \n",
       "14  winnipeg  2024-01-04    -16.3    -21.7 -19.8         -25.3         -31.8   \n",
       "\n",
       "    feelslike   dew  humidity  ...  solarenergy  uvindex  severerisk  \\\n",
       "0        -4.1  -3.5      79.9  ...          2.3        2          10   \n",
       "1        -6.9  -4.9      92.2  ...          2.2        1          10   \n",
       "2        -7.0  -2.9      91.1  ...          3.0        1          10   \n",
       "3        -9.2  -5.3      84.5  ...          3.8        2          10   \n",
       "4       -12.9  -9.8      82.5  ...          5.0        2          10   \n",
       "5       -12.4  -9.9      79.5  ...          4.9        2          10   \n",
       "6       -11.0  -8.5      81.3  ...          3.5        2          10   \n",
       "7       -10.8  -7.5      84.3  ...          4.8        2          10   \n",
       "8       -17.9 -13.6      81.0  ...          3.1        2          10   \n",
       "9       -20.9 -17.3      74.2  ...          5.2        3          10   \n",
       "10      -18.2 -14.3      83.1  ...          4.8        2          10   \n",
       "11      -19.7 -15.0      82.0  ...          4.5        2          10   \n",
       "12      -24.9 -17.7      78.6  ...          3.2        2          10   \n",
       "13      -26.1 -21.2      73.4  ...          4.9        3          10   \n",
       "14      -29.2 -23.7      71.2  ...          5.1        3          10   \n",
       "\n",
       "                sunrise               sunset  moonphase        conditions  \\\n",
       "0   2023-12-21T08:24:06  2023-12-21T16:29:16       0.31  Partially cloudy   \n",
       "1   2023-12-22T08:24:36  2023-12-22T16:29:47       0.35  Partially cloudy   \n",
       "2   2023-12-23T08:25:03  2023-12-23T16:30:21       0.38  Partially cloudy   \n",
       "3   2023-12-24T08:25:27  2023-12-24T16:30:57       0.42  Partially cloudy   \n",
       "4   2023-12-25T08:25:48  2023-12-25T16:31:37       0.45  Partially cloudy   \n",
       "5   2023-12-26T08:26:05  2023-12-26T16:32:20       0.50  Partially cloudy   \n",
       "6   2023-12-27T08:26:20  2023-12-27T16:33:05       0.52  Partially cloudy   \n",
       "7   2023-12-28T08:26:31  2023-12-28T16:33:53       0.56  Partially cloudy   \n",
       "8   2023-12-29T08:26:40  2023-12-29T16:34:44       0.59  Partially cloudy   \n",
       "9   2023-12-30T08:26:45  2023-12-30T16:35:38       0.62             Clear   \n",
       "10  2023-12-31T08:26:47  2023-12-31T16:36:34       0.65  Partially cloudy   \n",
       "11  2024-01-01T08:26:46  2024-01-01T16:37:33       0.69  Partially cloudy   \n",
       "12  2024-01-02T08:26:41  2024-01-02T16:38:35       0.72          Overcast   \n",
       "13  2024-01-03T08:26:34  2024-01-03T16:39:39       0.75  Partially cloudy   \n",
       "14  2024-01-04T08:26:23  2024-01-04T16:40:45       0.78  Partially cloudy   \n",
       "\n",
       "                             description               icon  \\\n",
       "0      Partly cloudy throughout the day.  partly-cloudy-day   \n",
       "1      Partly cloudy throughout the day.  partly-cloudy-day   \n",
       "2      Partly cloudy throughout the day.  partly-cloudy-day   \n",
       "3      Partly cloudy throughout the day.  partly-cloudy-day   \n",
       "4      Partly cloudy throughout the day.  partly-cloudy-day   \n",
       "5      Partly cloudy throughout the day.  partly-cloudy-day   \n",
       "6      Partly cloudy throughout the day.  partly-cloudy-day   \n",
       "7      Partly cloudy throughout the day.  partly-cloudy-day   \n",
       "8      Partly cloudy throughout the day.  partly-cloudy-day   \n",
       "9   Clear conditions throughout the day.          clear-day   \n",
       "10     Partly cloudy throughout the day.  partly-cloudy-day   \n",
       "11     Partly cloudy throughout the day.  partly-cloudy-day   \n",
       "12      Cloudy skies throughout the day.             cloudy   \n",
       "13            Clearing in the afternoon.  partly-cloudy-day   \n",
       "14     Partly cloudy throughout the day.  partly-cloudy-day   \n",
       "\n",
       "                stations  \n",
       "0   CXWN,CYWG,C8306,CWNK  \n",
       "1                    NaN  \n",
       "2                    NaN  \n",
       "3                    NaN  \n",
       "4                    NaN  \n",
       "5                    NaN  \n",
       "6                    NaN  \n",
       "7                    NaN  \n",
       "8                    NaN  \n",
       "9                    NaN  \n",
       "10                   NaN  \n",
       "11                   NaN  \n",
       "12                   NaN  \n",
       "13                   NaN  \n",
       "14                   NaN  \n",
       "\n",
       "[15 rows x 33 columns]"
      ],
      "text/html": [
       "<div>\n",
       "<style scoped>\n",
       "    .dataframe tbody tr th:only-of-type {\n",
       "        vertical-align: middle;\n",
       "    }\n",
       "\n",
       "    .dataframe tbody tr th {\n",
       "        vertical-align: top;\n",
       "    }\n",
       "\n",
       "    .dataframe thead th {\n",
       "        text-align: right;\n",
       "    }\n",
       "</style>\n",
       "<table border=\"1\" class=\"dataframe\">\n",
       "  <thead>\n",
       "    <tr style=\"text-align: right;\">\n",
       "      <th></th>\n",
       "      <th>name</th>\n",
       "      <th>datetime</th>\n",
       "      <th>tempmax</th>\n",
       "      <th>tempmin</th>\n",
       "      <th>temp</th>\n",
       "      <th>feelslikemax</th>\n",
       "      <th>feelslikemin</th>\n",
       "      <th>feelslike</th>\n",
       "      <th>dew</th>\n",
       "      <th>humidity</th>\n",
       "      <th>...</th>\n",
       "      <th>solarenergy</th>\n",
       "      <th>uvindex</th>\n",
       "      <th>severerisk</th>\n",
       "      <th>sunrise</th>\n",
       "      <th>sunset</th>\n",
       "      <th>moonphase</th>\n",
       "      <th>conditions</th>\n",
       "      <th>description</th>\n",
       "      <th>icon</th>\n",
       "      <th>stations</th>\n",
       "    </tr>\n",
       "  </thead>\n",
       "  <tbody>\n",
       "    <tr>\n",
       "      <th>0</th>\n",
       "      <td>winnipeg</td>\n",
       "      <td>2023-12-21</td>\n",
       "      <td>1.1</td>\n",
       "      <td>-3.0</td>\n",
       "      <td>-0.4</td>\n",
       "      <td>-2.5</td>\n",
       "      <td>-6.9</td>\n",
       "      <td>-4.1</td>\n",
       "      <td>-3.5</td>\n",
       "      <td>79.9</td>\n",
       "      <td>...</td>\n",
       "      <td>2.3</td>\n",
       "      <td>2</td>\n",
       "      <td>10</td>\n",
       "      <td>2023-12-21T08:24:06</td>\n",
       "      <td>2023-12-21T16:29:16</td>\n",
       "      <td>0.31</td>\n",
       "      <td>Partially cloudy</td>\n",
       "      <td>Partly cloudy throughout the day.</td>\n",
       "      <td>partly-cloudy-day</td>\n",
       "      <td>CXWN,CYWG,C8306,CWNK</td>\n",
       "    </tr>\n",
       "    <tr>\n",
       "      <th>1</th>\n",
       "      <td>winnipeg</td>\n",
       "      <td>2023-12-22</td>\n",
       "      <td>-2.3</td>\n",
       "      <td>-5.3</td>\n",
       "      <td>-3.8</td>\n",
       "      <td>-4.7</td>\n",
       "      <td>-9.0</td>\n",
       "      <td>-6.9</td>\n",
       "      <td>-4.9</td>\n",
       "      <td>92.2</td>\n",
       "      <td>...</td>\n",
       "      <td>2.2</td>\n",
       "      <td>1</td>\n",
       "      <td>10</td>\n",
       "      <td>2023-12-22T08:24:36</td>\n",
       "      <td>2023-12-22T16:29:47</td>\n",
       "      <td>0.35</td>\n",
       "      <td>Partially cloudy</td>\n",
       "      <td>Partly cloudy throughout the day.</td>\n",
       "      <td>partly-cloudy-day</td>\n",
       "      <td>NaN</td>\n",
       "    </tr>\n",
       "    <tr>\n",
       "      <th>2</th>\n",
       "      <td>winnipeg</td>\n",
       "      <td>2023-12-23</td>\n",
       "      <td>0.8</td>\n",
       "      <td>-3.4</td>\n",
       "      <td>-1.6</td>\n",
       "      <td>-4.3</td>\n",
       "      <td>-9.0</td>\n",
       "      <td>-7.0</td>\n",
       "      <td>-2.9</td>\n",
       "      <td>91.1</td>\n",
       "      <td>...</td>\n",
       "      <td>3.0</td>\n",
       "      <td>1</td>\n",
       "      <td>10</td>\n",
       "      <td>2023-12-23T08:25:03</td>\n",
       "      <td>2023-12-23T16:30:21</td>\n",
       "      <td>0.38</td>\n",
       "      <td>Partially cloudy</td>\n",
       "      <td>Partly cloudy throughout the day.</td>\n",
       "      <td>partly-cloudy-day</td>\n",
       "      <td>NaN</td>\n",
       "    </tr>\n",
       "    <tr>\n",
       "      <th>3</th>\n",
       "      <td>winnipeg</td>\n",
       "      <td>2023-12-24</td>\n",
       "      <td>-1.7</td>\n",
       "      <td>-7.0</td>\n",
       "      <td>-3.1</td>\n",
       "      <td>-6.9</td>\n",
       "      <td>-13.6</td>\n",
       "      <td>-9.2</td>\n",
       "      <td>-5.3</td>\n",
       "      <td>84.5</td>\n",
       "      <td>...</td>\n",
       "      <td>3.8</td>\n",
       "      <td>2</td>\n",
       "      <td>10</td>\n",
       "      <td>2023-12-24T08:25:27</td>\n",
       "      <td>2023-12-24T16:30:57</td>\n",
       "      <td>0.42</td>\n",
       "      <td>Partially cloudy</td>\n",
       "      <td>Partly cloudy throughout the day.</td>\n",
       "      <td>partly-cloudy-day</td>\n",
       "      <td>NaN</td>\n",
       "    </tr>\n",
       "    <tr>\n",
       "      <th>4</th>\n",
       "      <td>winnipeg</td>\n",
       "      <td>2023-12-25</td>\n",
       "      <td>-4.0</td>\n",
       "      <td>-9.6</td>\n",
       "      <td>-7.3</td>\n",
       "      <td>-9.6</td>\n",
       "      <td>-15.4</td>\n",
       "      <td>-12.9</td>\n",
       "      <td>-9.8</td>\n",
       "      <td>82.5</td>\n",
       "      <td>...</td>\n",
       "      <td>5.0</td>\n",
       "      <td>2</td>\n",
       "      <td>10</td>\n",
       "      <td>2023-12-25T08:25:48</td>\n",
       "      <td>2023-12-25T16:31:37</td>\n",
       "      <td>0.45</td>\n",
       "      <td>Partially cloudy</td>\n",
       "      <td>Partly cloudy throughout the day.</td>\n",
       "      <td>partly-cloudy-day</td>\n",
       "      <td>NaN</td>\n",
       "    </tr>\n",
       "    <tr>\n",
       "      <th>5</th>\n",
       "      <td>winnipeg</td>\n",
       "      <td>2023-12-26</td>\n",
       "      <td>-3.6</td>\n",
       "      <td>-9.1</td>\n",
       "      <td>-6.9</td>\n",
       "      <td>-8.5</td>\n",
       "      <td>-14.9</td>\n",
       "      <td>-12.4</td>\n",
       "      <td>-9.9</td>\n",
       "      <td>79.5</td>\n",
       "      <td>...</td>\n",
       "      <td>4.9</td>\n",
       "      <td>2</td>\n",
       "      <td>10</td>\n",
       "      <td>2023-12-26T08:26:05</td>\n",
       "      <td>2023-12-26T16:32:20</td>\n",
       "      <td>0.50</td>\n",
       "      <td>Partially cloudy</td>\n",
       "      <td>Partly cloudy throughout the day.</td>\n",
       "      <td>partly-cloudy-day</td>\n",
       "      <td>NaN</td>\n",
       "    </tr>\n",
       "    <tr>\n",
       "      <th>6</th>\n",
       "      <td>winnipeg</td>\n",
       "      <td>2023-12-27</td>\n",
       "      <td>-2.8</td>\n",
       "      <td>-8.1</td>\n",
       "      <td>-5.8</td>\n",
       "      <td>-7.6</td>\n",
       "      <td>-13.5</td>\n",
       "      <td>-11.0</td>\n",
       "      <td>-8.5</td>\n",
       "      <td>81.3</td>\n",
       "      <td>...</td>\n",
       "      <td>3.5</td>\n",
       "      <td>2</td>\n",
       "      <td>10</td>\n",
       "      <td>2023-12-27T08:26:20</td>\n",
       "      <td>2023-12-27T16:33:05</td>\n",
       "      <td>0.52</td>\n",
       "      <td>Partially cloudy</td>\n",
       "      <td>Partly cloudy throughout the day.</td>\n",
       "      <td>partly-cloudy-day</td>\n",
       "      <td>NaN</td>\n",
       "    </tr>\n",
       "    <tr>\n",
       "      <th>7</th>\n",
       "      <td>winnipeg</td>\n",
       "      <td>2023-12-28</td>\n",
       "      <td>-3.0</td>\n",
       "      <td>-6.7</td>\n",
       "      <td>-5.3</td>\n",
       "      <td>-8.3</td>\n",
       "      <td>-12.8</td>\n",
       "      <td>-10.8</td>\n",
       "      <td>-7.5</td>\n",
       "      <td>84.3</td>\n",
       "      <td>...</td>\n",
       "      <td>4.8</td>\n",
       "      <td>2</td>\n",
       "      <td>10</td>\n",
       "      <td>2023-12-28T08:26:31</td>\n",
       "      <td>2023-12-28T16:33:53</td>\n",
       "      <td>0.56</td>\n",
       "      <td>Partially cloudy</td>\n",
       "      <td>Partly cloudy throughout the day.</td>\n",
       "      <td>partly-cloudy-day</td>\n",
       "      <td>NaN</td>\n",
       "    </tr>\n",
       "    <tr>\n",
       "      <th>8</th>\n",
       "      <td>winnipeg</td>\n",
       "      <td>2023-12-29</td>\n",
       "      <td>-5.8</td>\n",
       "      <td>-14.4</td>\n",
       "      <td>-10.9</td>\n",
       "      <td>-11.4</td>\n",
       "      <td>-21.6</td>\n",
       "      <td>-17.9</td>\n",
       "      <td>-13.6</td>\n",
       "      <td>81.0</td>\n",
       "      <td>...</td>\n",
       "      <td>3.1</td>\n",
       "      <td>2</td>\n",
       "      <td>10</td>\n",
       "      <td>2023-12-29T08:26:40</td>\n",
       "      <td>2023-12-29T16:34:44</td>\n",
       "      <td>0.59</td>\n",
       "      <td>Partially cloudy</td>\n",
       "      <td>Partly cloudy throughout the day.</td>\n",
       "      <td>partly-cloudy-day</td>\n",
       "      <td>NaN</td>\n",
       "    </tr>\n",
       "    <tr>\n",
       "      <th>9</th>\n",
       "      <td>winnipeg</td>\n",
       "      <td>2023-12-30</td>\n",
       "      <td>-10.0</td>\n",
       "      <td>-15.3</td>\n",
       "      <td>-13.6</td>\n",
       "      <td>-17.1</td>\n",
       "      <td>-22.8</td>\n",
       "      <td>-20.9</td>\n",
       "      <td>-17.3</td>\n",
       "      <td>74.2</td>\n",
       "      <td>...</td>\n",
       "      <td>5.2</td>\n",
       "      <td>3</td>\n",
       "      <td>10</td>\n",
       "      <td>2023-12-30T08:26:45</td>\n",
       "      <td>2023-12-30T16:35:38</td>\n",
       "      <td>0.62</td>\n",
       "      <td>Clear</td>\n",
       "      <td>Clear conditions throughout the day.</td>\n",
       "      <td>clear-day</td>\n",
       "      <td>NaN</td>\n",
       "    </tr>\n",
       "    <tr>\n",
       "      <th>10</th>\n",
       "      <td>winnipeg</td>\n",
       "      <td>2023-12-31</td>\n",
       "      <td>-8.6</td>\n",
       "      <td>-14.5</td>\n",
       "      <td>-12.0</td>\n",
       "      <td>-14.4</td>\n",
       "      <td>-21.4</td>\n",
       "      <td>-18.2</td>\n",
       "      <td>-14.3</td>\n",
       "      <td>83.1</td>\n",
       "      <td>...</td>\n",
       "      <td>4.8</td>\n",
       "      <td>2</td>\n",
       "      <td>10</td>\n",
       "      <td>2023-12-31T08:26:47</td>\n",
       "      <td>2023-12-31T16:36:34</td>\n",
       "      <td>0.65</td>\n",
       "      <td>Partially cloudy</td>\n",
       "      <td>Partly cloudy throughout the day.</td>\n",
       "      <td>partly-cloudy-day</td>\n",
       "      <td>NaN</td>\n",
       "    </tr>\n",
       "    <tr>\n",
       "      <th>11</th>\n",
       "      <td>winnipeg</td>\n",
       "      <td>2024-01-01</td>\n",
       "      <td>-10.9</td>\n",
       "      <td>-14.2</td>\n",
       "      <td>-12.6</td>\n",
       "      <td>-17.8</td>\n",
       "      <td>-21.4</td>\n",
       "      <td>-19.7</td>\n",
       "      <td>-15.0</td>\n",
       "      <td>82.0</td>\n",
       "      <td>...</td>\n",
       "      <td>4.5</td>\n",
       "      <td>2</td>\n",
       "      <td>10</td>\n",
       "      <td>2024-01-01T08:26:46</td>\n",
       "      <td>2024-01-01T16:37:33</td>\n",
       "      <td>0.69</td>\n",
       "      <td>Partially cloudy</td>\n",
       "      <td>Partly cloudy throughout the day.</td>\n",
       "      <td>partly-cloudy-day</td>\n",
       "      <td>NaN</td>\n",
       "    </tr>\n",
       "    <tr>\n",
       "      <th>12</th>\n",
       "      <td>winnipeg</td>\n",
       "      <td>2024-01-02</td>\n",
       "      <td>-13.2</td>\n",
       "      <td>-17.0</td>\n",
       "      <td>-14.8</td>\n",
       "      <td>-22.0</td>\n",
       "      <td>-27.5</td>\n",
       "      <td>-24.9</td>\n",
       "      <td>-17.7</td>\n",
       "      <td>78.6</td>\n",
       "      <td>...</td>\n",
       "      <td>3.2</td>\n",
       "      <td>2</td>\n",
       "      <td>10</td>\n",
       "      <td>2024-01-02T08:26:41</td>\n",
       "      <td>2024-01-02T16:38:35</td>\n",
       "      <td>0.72</td>\n",
       "      <td>Overcast</td>\n",
       "      <td>Cloudy skies throughout the day.</td>\n",
       "      <td>cloudy</td>\n",
       "      <td>NaN</td>\n",
       "    </tr>\n",
       "    <tr>\n",
       "      <th>13</th>\n",
       "      <td>winnipeg</td>\n",
       "      <td>2024-01-03</td>\n",
       "      <td>-16.3</td>\n",
       "      <td>-18.9</td>\n",
       "      <td>-17.6</td>\n",
       "      <td>-23.8</td>\n",
       "      <td>-27.6</td>\n",
       "      <td>-26.1</td>\n",
       "      <td>-21.2</td>\n",
       "      <td>73.4</td>\n",
       "      <td>...</td>\n",
       "      <td>4.9</td>\n",
       "      <td>3</td>\n",
       "      <td>10</td>\n",
       "      <td>2024-01-03T08:26:34</td>\n",
       "      <td>2024-01-03T16:39:39</td>\n",
       "      <td>0.75</td>\n",
       "      <td>Partially cloudy</td>\n",
       "      <td>Clearing in the afternoon.</td>\n",
       "      <td>partly-cloudy-day</td>\n",
       "      <td>NaN</td>\n",
       "    </tr>\n",
       "    <tr>\n",
       "      <th>14</th>\n",
       "      <td>winnipeg</td>\n",
       "      <td>2024-01-04</td>\n",
       "      <td>-16.3</td>\n",
       "      <td>-21.7</td>\n",
       "      <td>-19.8</td>\n",
       "      <td>-25.3</td>\n",
       "      <td>-31.8</td>\n",
       "      <td>-29.2</td>\n",
       "      <td>-23.7</td>\n",
       "      <td>71.2</td>\n",
       "      <td>...</td>\n",
       "      <td>5.1</td>\n",
       "      <td>3</td>\n",
       "      <td>10</td>\n",
       "      <td>2024-01-04T08:26:23</td>\n",
       "      <td>2024-01-04T16:40:45</td>\n",
       "      <td>0.78</td>\n",
       "      <td>Partially cloudy</td>\n",
       "      <td>Partly cloudy throughout the day.</td>\n",
       "      <td>partly-cloudy-day</td>\n",
       "      <td>NaN</td>\n",
       "    </tr>\n",
       "  </tbody>\n",
       "</table>\n",
       "<p>15 rows × 33 columns</p>\n",
       "</div>"
      ]
     },
     "execution_count": 6,
     "metadata": {},
     "output_type": "execute_result"
    }
   ],
   "execution_count": 6
  },
  {
   "cell_type": "markdown",
   "id": "06b31dc3",
   "metadata": {},
   "source": [
    "# How to Analyze DataFrames\n",
    "\n",
    "# .head()  \n",
    "### It shows the first N rows in the data(by default, N=5)\n"
   ]
  },
  {
   "cell_type": "code",
   "id": "c7ea4f28",
   "metadata": {
    "ExecuteTime": {
     "end_time": "2025-10-08T19:31:12.802952Z",
     "start_time": "2025-10-08T19:31:12.778996Z"
    }
   },
   "source": "print(data.head(5))",
   "outputs": [
    {
     "name": "stdout",
     "output_type": "stream",
     "text": [
      "       name    datetime  tempmax  tempmin  temp  feelslikemax  feelslikemin  \\\n",
      "0  winnipeg  2023-12-21      1.1     -3.0  -0.4          -2.5          -6.9   \n",
      "1  winnipeg  2023-12-22     -2.3     -5.3  -3.8          -4.7          -9.0   \n",
      "2  winnipeg  2023-12-23      0.8     -3.4  -1.6          -4.3          -9.0   \n",
      "3  winnipeg  2023-12-24     -1.7     -7.0  -3.1          -6.9         -13.6   \n",
      "4  winnipeg  2023-12-25     -4.0     -9.6  -7.3          -9.6         -15.4   \n",
      "\n",
      "   feelslike  dew  humidity  ...  solarenergy  uvindex  severerisk  \\\n",
      "0       -4.1 -3.5      79.9  ...          2.3        2          10   \n",
      "1       -6.9 -4.9      92.2  ...          2.2        1          10   \n",
      "2       -7.0 -2.9      91.1  ...          3.0        1          10   \n",
      "3       -9.2 -5.3      84.5  ...          3.8        2          10   \n",
      "4      -12.9 -9.8      82.5  ...          5.0        2          10   \n",
      "\n",
      "               sunrise               sunset  moonphase        conditions  \\\n",
      "0  2023-12-21T08:24:06  2023-12-21T16:29:16       0.31  Partially cloudy   \n",
      "1  2023-12-22T08:24:36  2023-12-22T16:29:47       0.35  Partially cloudy   \n",
      "2  2023-12-23T08:25:03  2023-12-23T16:30:21       0.38  Partially cloudy   \n",
      "3  2023-12-24T08:25:27  2023-12-24T16:30:57       0.42  Partially cloudy   \n",
      "4  2023-12-25T08:25:48  2023-12-25T16:31:37       0.45  Partially cloudy   \n",
      "\n",
      "                         description               icon              stations  \n",
      "0  Partly cloudy throughout the day.  partly-cloudy-day  CXWN,CYWG,C8306,CWNK  \n",
      "1  Partly cloudy throughout the day.  partly-cloudy-day                   NaN  \n",
      "2  Partly cloudy throughout the day.  partly-cloudy-day                   NaN  \n",
      "3  Partly cloudy throughout the day.  partly-cloudy-day                   NaN  \n",
      "4  Partly cloudy throughout the day.  partly-cloudy-day                   NaN  \n",
      "\n",
      "[5 rows x 33 columns]\n"
     ]
    }
   ],
   "execution_count": 7
  },
  {
   "cell_type": "markdown",
   "id": "71e9490a",
   "metadata": {},
   "source": [
    "# .shape\n",
    "### It shows the total no. of rows and no. of columns of the dataframe"
   ]
  },
  {
   "cell_type": "code",
   "id": "9b989297",
   "metadata": {
    "ExecuteTime": {
     "end_time": "2025-10-08T19:31:17.895113Z",
     "start_time": "2025-10-08T19:31:17.890987Z"
    }
   },
   "source": "print(data.shape)",
   "outputs": [
    {
     "name": "stdout",
     "output_type": "stream",
     "text": [
      "(15, 33)\n"
     ]
    }
   ],
   "execution_count": 8
  },
  {
   "cell_type": "markdown",
   "id": "1ed0dd78",
   "metadata": {},
   "source": [
    "# .index \n",
    "### provides the index of the dataframe"
   ]
  },
  {
   "cell_type": "code",
   "id": "0cb64db8",
   "metadata": {
    "ExecuteTime": {
     "end_time": "2025-10-08T19:31:21.425084Z",
     "start_time": "2025-10-08T19:31:21.420487Z"
    }
   },
   "source": "print(data.index)",
   "outputs": [
    {
     "name": "stdout",
     "output_type": "stream",
     "text": [
      "RangeIndex(start=0, stop=15, step=1)\n"
     ]
    }
   ],
   "execution_count": 9
  },
  {
   "cell_type": "markdown",
   "id": "2c6206fb",
   "metadata": {},
   "source": [
    "# .dtypes\n",
    "### It shows the data-type of each column\n"
   ]
  },
  {
   "cell_type": "code",
   "id": "88366654",
   "metadata": {
    "ExecuteTime": {
     "end_time": "2025-10-08T19:31:30.804900Z",
     "start_time": "2025-10-08T19:31:30.798137Z"
    }
   },
   "source": "print(data.dtypes)",
   "outputs": [
    {
     "name": "stdout",
     "output_type": "stream",
     "text": [
      "name                 object\n",
      "datetime             object\n",
      "tempmax             float64\n",
      "tempmin             float64\n",
      "temp                float64\n",
      "feelslikemax        float64\n",
      "feelslikemin        float64\n",
      "feelslike           float64\n",
      "dew                 float64\n",
      "humidity            float64\n",
      "precip              float64\n",
      "precipprob          float64\n",
      "precipcover         float64\n",
      "preciptype           object\n",
      "snow                  int64\n",
      "snowdepth           float64\n",
      "windgust            float64\n",
      "windspeed           float64\n",
      "winddir             float64\n",
      "sealevelpressure    float64\n",
      "cloudcover          float64\n",
      "visibility          float64\n",
      "solarradiation      float64\n",
      "solarenergy         float64\n",
      "uvindex               int64\n",
      "severerisk            int64\n",
      "sunrise              object\n",
      "sunset               object\n",
      "moonphase           float64\n",
      "conditions           object\n",
      "description          object\n",
      "icon                 object\n",
      "stations             object\n",
      "dtype: object\n"
     ]
    }
   ],
   "execution_count": 10
  },
  {
   "cell_type": "markdown",
   "id": "306ccf67",
   "metadata": {},
   "source": [
    "# .columns\n",
    "### It shows the name of each column"
   ]
  },
  {
   "cell_type": "code",
   "id": "b2811933",
   "metadata": {
    "ExecuteTime": {
     "end_time": "2025-10-08T19:31:33.890098Z",
     "start_time": "2025-10-08T19:31:33.880561Z"
    }
   },
   "source": "print(data.columns)",
   "outputs": [
    {
     "name": "stdout",
     "output_type": "stream",
     "text": [
      "Index(['name', 'datetime', 'tempmax', 'tempmin', 'temp', 'feelslikemax',\n",
      "       'feelslikemin', 'feelslike', 'dew', 'humidity', 'precip', 'precipprob',\n",
      "       'precipcover', 'preciptype', 'snow', 'snowdepth', 'windgust',\n",
      "       'windspeed', 'winddir', 'sealevelpressure', 'cloudcover', 'visibility',\n",
      "       'solarradiation', 'solarenergy', 'uvindex', 'severerisk', 'sunrise',\n",
      "       'sunset', 'moonphase', 'conditions', 'description', 'icon', 'stations'],\n",
      "      dtype='object')\n"
     ]
    }
   ],
   "execution_count": 11
  },
  {
   "cell_type": "markdown",
   "id": "48b2142c",
   "metadata": {},
   "source": [
    "# .unique()\n",
    "### Shows all unique values in a column. It can be applied to a single column only, not the whole dataframe.\n",
    "### eg. dataname['Column name'].unique()\n",
    "\n",
    "# .nunique()\n",
    "### shows the unique values in each column. Can be applied to both single columns and the whole dataframe.\n"
   ]
  },
  {
   "cell_type": "code",
   "id": "f8cdf678",
   "metadata": {
    "ExecuteTime": {
     "end_time": "2025-10-08T19:31:39.389775Z",
     "start_time": "2025-10-08T19:31:39.374021Z"
    }
   },
   "source": "print(data['uvindex'].unique())",
   "outputs": [
    {
     "name": "stdout",
     "output_type": "stream",
     "text": [
      "[2 1 3]\n"
     ]
    }
   ],
   "execution_count": 12
  },
  {
   "cell_type": "code",
   "id": "e5bf37df",
   "metadata": {
    "ExecuteTime": {
     "end_time": "2025-10-08T19:32:10.977115Z",
     "start_time": "2025-10-08T19:32:10.965444Z"
    }
   },
   "source": [
    "print(data.nunique())\n",
    "#print(data['uvindex'].nunique())"
   ],
   "outputs": [
    {
     "name": "stdout",
     "output_type": "stream",
     "text": [
      "name                 1\n",
      "datetime            15\n",
      "tempmax             14\n",
      "tempmin             15\n",
      "temp                15\n",
      "feelslikemax        15\n",
      "feelslikemin        13\n",
      "feelslike           15\n",
      "dew                 15\n",
      "humidity            15\n",
      "precip               2\n",
      "precipprob          11\n",
      "precipcover          2\n",
      "preciptype           1\n",
      "snow                 1\n",
      "snowdepth           11\n",
      "windgust            13\n",
      "windspeed           13\n",
      "winddir             15\n",
      "sealevelpressure    14\n",
      "cloudcover          14\n",
      "visibility          12\n",
      "solarradiation      15\n",
      "solarenergy         13\n",
      "uvindex              3\n",
      "severerisk           1\n",
      "sunrise             15\n",
      "sunset              15\n",
      "moonphase           15\n",
      "conditions           3\n",
      "description          4\n",
      "icon                 3\n",
      "stations             1\n",
      "dtype: int64\n"
     ]
    }
   ],
   "execution_count": 14
  },
  {
   "cell_type": "markdown",
   "id": "bcc3ad9f",
   "metadata": {},
   "source": [
    "# .count()\n",
    "### Shows the total number of non-null values in each column.\n",
    "\n",
    "\n",
    "# .value_counts()\n",
    "### In a column, it shows all the unique values with their count. Can be applied to a single column only.\n"
   ]
  },
  {
   "cell_type": "code",
   "id": "9aa1120d",
   "metadata": {
    "ExecuteTime": {
     "end_time": "2025-10-08T19:32:16.886520Z",
     "start_time": "2025-10-08T19:32:16.873019Z"
    }
   },
   "source": "print(data.count())",
   "outputs": [
    {
     "name": "stdout",
     "output_type": "stream",
     "text": [
      "name                15\n",
      "datetime            15\n",
      "tempmax             15\n",
      "tempmin             15\n",
      "temp                15\n",
      "feelslikemax        15\n",
      "feelslikemin        15\n",
      "feelslike           15\n",
      "dew                 15\n",
      "humidity            15\n",
      "precip              15\n",
      "precipprob          15\n",
      "precipcover         15\n",
      "preciptype           1\n",
      "snow                15\n",
      "snowdepth           15\n",
      "windgust            15\n",
      "windspeed           15\n",
      "winddir             15\n",
      "sealevelpressure    15\n",
      "cloudcover          15\n",
      "visibility          15\n",
      "solarradiation      15\n",
      "solarenergy         15\n",
      "uvindex             15\n",
      "severerisk          15\n",
      "sunrise             15\n",
      "sunset              15\n",
      "moonphase           15\n",
      "conditions          15\n",
      "description         15\n",
      "icon                15\n",
      "stations             1\n",
      "dtype: int64\n"
     ]
    }
   ],
   "execution_count": 15
  },
  {
   "cell_type": "code",
   "id": "da79a3fb",
   "metadata": {
    "ExecuteTime": {
     "end_time": "2025-10-08T19:32:35.646450Z",
     "start_time": "2025-10-08T19:32:35.632672Z"
    }
   },
   "source": "print(data['uvindex'].value_counts())",
   "outputs": [
    {
     "name": "stdout",
     "output_type": "stream",
     "text": [
      "uvindex\n",
      "2    10\n",
      "3     3\n",
      "1     2\n",
      "Name: count, dtype: int64\n"
     ]
    }
   ],
   "execution_count": 16
  },
  {
   "cell_type": "markdown",
   "id": "e077476d",
   "metadata": {},
   "source": [
    "# .info()\n",
    "### Provides basic information about the dataframe"
   ]
  },
  {
   "cell_type": "code",
   "id": "f8f0da8e",
   "metadata": {
    "ExecuteTime": {
     "end_time": "2025-10-08T19:33:21.321326Z",
     "start_time": "2025-10-08T19:33:21.289905Z"
    }
   },
   "source": "print(data.info())",
   "outputs": [
    {
     "name": "stdout",
     "output_type": "stream",
     "text": [
      "<class 'pandas.core.frame.DataFrame'>\n",
      "RangeIndex: 15 entries, 0 to 14\n",
      "Data columns (total 33 columns):\n",
      " #   Column            Non-Null Count  Dtype  \n",
      "---  ------            --------------  -----  \n",
      " 0   name              15 non-null     object \n",
      " 1   datetime          15 non-null     object \n",
      " 2   tempmax           15 non-null     float64\n",
      " 3   tempmin           15 non-null     float64\n",
      " 4   temp              15 non-null     float64\n",
      " 5   feelslikemax      15 non-null     float64\n",
      " 6   feelslikemin      15 non-null     float64\n",
      " 7   feelslike         15 non-null     float64\n",
      " 8   dew               15 non-null     float64\n",
      " 9   humidity          15 non-null     float64\n",
      " 10  precip            15 non-null     float64\n",
      " 11  precipprob        15 non-null     float64\n",
      " 12  precipcover       15 non-null     float64\n",
      " 13  preciptype        1 non-null      object \n",
      " 14  snow              15 non-null     int64  \n",
      " 15  snowdepth         15 non-null     float64\n",
      " 16  windgust          15 non-null     float64\n",
      " 17  windspeed         15 non-null     float64\n",
      " 18  winddir           15 non-null     float64\n",
      " 19  sealevelpressure  15 non-null     float64\n",
      " 20  cloudcover        15 non-null     float64\n",
      " 21  visibility        15 non-null     float64\n",
      " 22  solarradiation    15 non-null     float64\n",
      " 23  solarenergy       15 non-null     float64\n",
      " 24  uvindex           15 non-null     int64  \n",
      " 25  severerisk        15 non-null     int64  \n",
      " 26  sunrise           15 non-null     object \n",
      " 27  sunset            15 non-null     object \n",
      " 28  moonphase         15 non-null     float64\n",
      " 29  conditions        15 non-null     object \n",
      " 30  description       15 non-null     object \n",
      " 31  icon              15 non-null     object \n",
      " 32  stations          1 non-null      object \n",
      "dtypes: float64(21), int64(3), object(9)\n",
      "memory usage: 4.0+ KB\n",
      "None\n"
     ]
    }
   ],
   "execution_count": 17
  },
  {
   "cell_type": "markdown",
   "id": "4cc11d06",
   "metadata": {},
   "source": [
    "# 1. Find the unique values from column 'temp'."
   ]
  },
  {
   "cell_type": "code",
   "id": "41084866",
   "metadata": {
    "ExecuteTime": {
     "end_time": "2025-10-08T19:33:28.999113Z",
     "start_time": "2025-10-08T19:33:28.989872Z"
    }
   },
   "source": "print(data['temp'].unique())",
   "outputs": [
    {
     "name": "stdout",
     "output_type": "stream",
     "text": [
      "[ -0.4  -3.8  -1.6  -3.1  -7.3  -6.9  -5.8  -5.3 -10.9 -13.6 -12.  -12.6\n",
      " -14.8 -17.6 -19.8]\n"
     ]
    }
   ],
   "execution_count": 18
  },
  {
   "cell_type": "markdown",
   "id": "26820b2e",
   "metadata": {},
   "source": [
    "# 2. Find the number of times when condition in Partially cloudy"
   ]
  },
  {
   "cell_type": "code",
   "id": "181abdf1",
   "metadata": {
    "ExecuteTime": {
     "end_time": "2025-09-25T04:24:59.594886Z",
     "start_time": "2025-09-25T04:24:59.553427Z"
    }
   },
   "source": "print(data['conditions'].value_counts()['Partially cloudy'])",
   "outputs": [
    {
     "name": "stdout",
     "output_type": "stream",
     "text": [
      "13\n"
     ]
    }
   ],
   "execution_count": 27
  },
  {
   "cell_type": "markdown",
   "id": "3950d4a2",
   "metadata": {},
   "source": [
    "# 3. Display the data when the tempmax was exactuly -2.3"
   ]
  },
  {
   "cell_type": "code",
   "id": "fe79a6e5",
   "metadata": {
    "ExecuteTime": {
     "end_time": "2025-10-08T19:33:57.668128Z",
     "start_time": "2025-10-08T19:33:57.641644Z"
    }
   },
   "source": "print(data[data['tempmax']==-2.3])",
   "outputs": [
    {
     "name": "stdout",
     "output_type": "stream",
     "text": [
      "       name    datetime  tempmax  tempmin  temp  feelslikemax  feelslikemin  \\\n",
      "1  winnipeg  2023-12-22     -2.3     -5.3  -3.8          -4.7          -9.0   \n",
      "\n",
      "   feelslike  dew  humidity  ...  solarenergy  uvindex  severerisk  \\\n",
      "1       -6.9 -4.9      92.2  ...          2.2        1          10   \n",
      "\n",
      "               sunrise               sunset  moonphase        conditions  \\\n",
      "1  2023-12-22T08:24:36  2023-12-22T16:29:47       0.35  Partially cloudy   \n",
      "\n",
      "                         description               icon  stations  \n",
      "1  Partly cloudy throughout the day.  partly-cloudy-day       NaN  \n",
      "\n",
      "[1 rows x 33 columns]\n"
     ]
    }
   ],
   "execution_count": 19
  },
  {
   "cell_type": "markdown",
   "id": "5b7c9fd4",
   "metadata": {},
   "source": [
    "# 4. Find out all Null Values in the stations(can use isnull() function and sum() function to find the total)"
   ]
  },
  {
   "cell_type": "code",
   "id": "6ec89b8e",
   "metadata": {
    "ExecuteTime": {
     "end_time": "2025-10-08T19:34:14.397197Z",
     "start_time": "2025-10-08T19:34:14.392760Z"
    }
   },
   "source": "print(data['stations'].isnull().sum())",
   "outputs": [
    {
     "name": "stdout",
     "output_type": "stream",
     "text": [
      "14\n"
     ]
    }
   ],
   "execution_count": 20
  },
  {
   "cell_type": "markdown",
   "id": "8d3e2d13",
   "metadata": {},
   "source": [
    "# .mean()\n",
    "## 5. Calculate mean value of solarenergy column. "
   ]
  },
  {
   "cell_type": "code",
   "id": "2819d355",
   "metadata": {
    "ExecuteTime": {
     "end_time": "2025-10-08T19:34:32.567278Z",
     "start_time": "2025-10-08T19:34:32.562998Z"
    }
   },
   "source": "print(data['solarenergy'].mean())",
   "outputs": [
    {
     "name": "stdout",
     "output_type": "stream",
     "text": [
      "4.0200000000000005\n"
     ]
    }
   ],
   "execution_count": 21
  },
  {
   "cell_type": "markdown",
   "id": "35a491ee",
   "metadata": {},
   "source": [
    "# .std()\n",
    "## 6. Calculate Standard Deviation of humidity column."
   ]
  },
  {
   "cell_type": "code",
   "id": "c1a3e4e0",
   "metadata": {
    "ExecuteTime": {
     "end_time": "2025-10-08T19:34:36.585440Z",
     "start_time": "2025-10-08T19:34:36.576247Z"
    }
   },
   "source": "print(data['humidity'].std())",
   "outputs": [
    {
     "name": "stdout",
     "output_type": "stream",
     "text": [
      "5.773321236103018\n"
     ]
    }
   ],
   "execution_count": 22
  },
  {
   "cell_type": "markdown",
   "id": "034d7404",
   "metadata": {},
   "source": [
    "# .var()\n",
    "## 7. Calculate the variance of \"dew\" column"
   ]
  },
  {
   "cell_type": "code",
   "id": "1818e536",
   "metadata": {
    "ExecuteTime": {
     "end_time": "2025-10-08T19:34:41.394862Z",
     "start_time": "2025-10-08T19:34:41.389651Z"
    }
   },
   "source": "print(data['dew'].var())",
   "outputs": [
    {
     "name": "stdout",
     "output_type": "stream",
     "text": [
      "42.10495238095238\n"
     ]
    }
   ],
   "execution_count": 23
  },
  {
   "cell_type": "markdown",
   "id": "e0cea897",
   "metadata": {},
   "source": [
    "# .max() .min()\n",
    "## Find the maximum and minimum temperate from temp column"
   ]
  },
  {
   "cell_type": "code",
   "id": "b66c1622",
   "metadata": {
    "ExecuteTime": {
     "end_time": "2025-09-25T04:49:25.491419Z",
     "start_time": "2025-09-25T04:49:25.473638Z"
    }
   },
   "source": "print(data['temp'].max())",
   "outputs": [
    {
     "name": "stdout",
     "output_type": "stream",
     "text": [
      "-0.4\n"
     ]
    }
   ],
   "execution_count": 38
  },
  {
   "cell_type": "code",
   "id": "c80e0103",
   "metadata": {
    "ExecuteTime": {
     "end_time": "2025-09-25T04:49:40.891601Z",
     "start_time": "2025-09-25T04:49:40.879105Z"
    }
   },
   "source": "print(data['temp'].min())",
   "outputs": [
    {
     "name": "stdout",
     "output_type": "stream",
     "text": [
      "-19.8\n"
     ]
    }
   ],
   "execution_count": 39
  },
  {
   "cell_type": "code",
   "execution_count": null,
   "id": "01e15e20",
   "metadata": {},
   "outputs": [],
   "source": []
  }
 ],
 "metadata": {
  "kernelspec": {
   "display_name": "Python 3 (ipykernel)",
   "language": "python",
   "name": "python3"
  },
  "language_info": {
   "codemirror_mode": {
    "name": "ipython",
    "version": 3
   },
   "file_extension": ".py",
   "mimetype": "text/x-python",
   "name": "python",
   "nbconvert_exporter": "python",
   "pygments_lexer": "ipython3",
   "version": "3.11.3"
  }
 },
 "nbformat": 4,
 "nbformat_minor": 5
}
